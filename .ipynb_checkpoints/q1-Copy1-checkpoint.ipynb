{
 "cells": [
  {
   "cell_type": "code",
   "execution_count": 53,
   "id": "b50328b6",
   "metadata": {},
   "outputs": [],
   "source": [
    "import numpy as np\n",
    "import pandas as pd"
   ]
  },
  {
   "cell_type": "code",
   "execution_count": 54,
   "id": "23d90e00",
   "metadata": {},
   "outputs": [],
   "source": [
    "data = pd.read_csv('data/2019 Winter Data Science Intern Challenge Data Set - Sheet1.csv', index_col='order_id')"
   ]
  },
  {
   "cell_type": "code",
   "execution_count": 55,
   "id": "ee762f4e",
   "metadata": {},
   "outputs": [
    {
     "data": {
      "text/html": [
       "<div>\n",
       "<style scoped>\n",
       "    .dataframe tbody tr th:only-of-type {\n",
       "        vertical-align: middle;\n",
       "    }\n",
       "\n",
       "    .dataframe tbody tr th {\n",
       "        vertical-align: top;\n",
       "    }\n",
       "\n",
       "    .dataframe thead th {\n",
       "        text-align: right;\n",
       "    }\n",
       "</style>\n",
       "<table border=\"1\" class=\"dataframe\">\n",
       "  <thead>\n",
       "    <tr style=\"text-align: right;\">\n",
       "      <th></th>\n",
       "      <th>shop_id</th>\n",
       "      <th>user_id</th>\n",
       "      <th>order_amount</th>\n",
       "      <th>total_items</th>\n",
       "      <th>payment_method</th>\n",
       "      <th>created_at</th>\n",
       "    </tr>\n",
       "    <tr>\n",
       "      <th>order_id</th>\n",
       "      <th></th>\n",
       "      <th></th>\n",
       "      <th></th>\n",
       "      <th></th>\n",
       "      <th></th>\n",
       "      <th></th>\n",
       "    </tr>\n",
       "  </thead>\n",
       "  <tbody>\n",
       "    <tr>\n",
       "      <th>4976</th>\n",
       "      <td>76</td>\n",
       "      <td>932</td>\n",
       "      <td>155</td>\n",
       "      <td>1</td>\n",
       "      <td>cash</td>\n",
       "      <td>2017-03-25 1:15:09</td>\n",
       "    </tr>\n",
       "    <tr>\n",
       "      <th>4977</th>\n",
       "      <td>93</td>\n",
       "      <td>763</td>\n",
       "      <td>114</td>\n",
       "      <td>1</td>\n",
       "      <td>credit_card</td>\n",
       "      <td>2017-03-20 17:14:51</td>\n",
       "    </tr>\n",
       "    <tr>\n",
       "      <th>4978</th>\n",
       "      <td>69</td>\n",
       "      <td>903</td>\n",
       "      <td>131</td>\n",
       "      <td>1</td>\n",
       "      <td>credit_card</td>\n",
       "      <td>2017-03-13 10:39:49</td>\n",
       "    </tr>\n",
       "    <tr>\n",
       "      <th>4979</th>\n",
       "      <td>2</td>\n",
       "      <td>841</td>\n",
       "      <td>282</td>\n",
       "      <td>3</td>\n",
       "      <td>cash</td>\n",
       "      <td>2017-03-09 19:13:23</td>\n",
       "    </tr>\n",
       "    <tr>\n",
       "      <th>4980</th>\n",
       "      <td>75</td>\n",
       "      <td>820</td>\n",
       "      <td>128</td>\n",
       "      <td>1</td>\n",
       "      <td>debit</td>\n",
       "      <td>2017-03-25 12:28:18</td>\n",
       "    </tr>\n",
       "    <tr>\n",
       "      <th>4981</th>\n",
       "      <td>50</td>\n",
       "      <td>942</td>\n",
       "      <td>772</td>\n",
       "      <td>4</td>\n",
       "      <td>credit_card</td>\n",
       "      <td>2017-03-23 5:15:19</td>\n",
       "    </tr>\n",
       "    <tr>\n",
       "      <th>4982</th>\n",
       "      <td>86</td>\n",
       "      <td>715</td>\n",
       "      <td>260</td>\n",
       "      <td>2</td>\n",
       "      <td>debit</td>\n",
       "      <td>2017-03-10 18:53:38</td>\n",
       "    </tr>\n",
       "    <tr>\n",
       "      <th>4983</th>\n",
       "      <td>1</td>\n",
       "      <td>906</td>\n",
       "      <td>316</td>\n",
       "      <td>2</td>\n",
       "      <td>credit_card</td>\n",
       "      <td>2017-03-26 15:57:18</td>\n",
       "    </tr>\n",
       "    <tr>\n",
       "      <th>4984</th>\n",
       "      <td>46</td>\n",
       "      <td>969</td>\n",
       "      <td>332</td>\n",
       "      <td>2</td>\n",
       "      <td>cash</td>\n",
       "      <td>2017-03-23 19:18:15</td>\n",
       "    </tr>\n",
       "    <tr>\n",
       "      <th>4985</th>\n",
       "      <td>44</td>\n",
       "      <td>966</td>\n",
       "      <td>432</td>\n",
       "      <td>3</td>\n",
       "      <td>credit_card</td>\n",
       "      <td>2017-03-15 20:12:31</td>\n",
       "    </tr>\n",
       "    <tr>\n",
       "      <th>4986</th>\n",
       "      <td>8</td>\n",
       "      <td>916</td>\n",
       "      <td>396</td>\n",
       "      <td>3</td>\n",
       "      <td>debit</td>\n",
       "      <td>2017-03-15 14:22:51</td>\n",
       "    </tr>\n",
       "    <tr>\n",
       "      <th>4987</th>\n",
       "      <td>100</td>\n",
       "      <td>731</td>\n",
       "      <td>111</td>\n",
       "      <td>1</td>\n",
       "      <td>cash</td>\n",
       "      <td>2017-03-30 7:01:59</td>\n",
       "    </tr>\n",
       "    <tr>\n",
       "      <th>4988</th>\n",
       "      <td>11</td>\n",
       "      <td>826</td>\n",
       "      <td>184</td>\n",
       "      <td>1</td>\n",
       "      <td>credit_card</td>\n",
       "      <td>2017-03-02 9:35:25</td>\n",
       "    </tr>\n",
       "    <tr>\n",
       "      <th>4989</th>\n",
       "      <td>86</td>\n",
       "      <td>877</td>\n",
       "      <td>260</td>\n",
       "      <td>2</td>\n",
       "      <td>cash</td>\n",
       "      <td>2017-03-12 19:55:36</td>\n",
       "    </tr>\n",
       "    <tr>\n",
       "      <th>4990</th>\n",
       "      <td>11</td>\n",
       "      <td>843</td>\n",
       "      <td>552</td>\n",
       "      <td>3</td>\n",
       "      <td>credit_card</td>\n",
       "      <td>2017-03-02 15:06:29</td>\n",
       "    </tr>\n",
       "    <tr>\n",
       "      <th>4991</th>\n",
       "      <td>24</td>\n",
       "      <td>860</td>\n",
       "      <td>140</td>\n",
       "      <td>1</td>\n",
       "      <td>cash</td>\n",
       "      <td>2017-03-26 0:32:39</td>\n",
       "    </tr>\n",
       "    <tr>\n",
       "      <th>4992</th>\n",
       "      <td>61</td>\n",
       "      <td>707</td>\n",
       "      <td>158</td>\n",
       "      <td>1</td>\n",
       "      <td>cash</td>\n",
       "      <td>2017-03-13 18:56:04</td>\n",
       "    </tr>\n",
       "    <tr>\n",
       "      <th>4993</th>\n",
       "      <td>49</td>\n",
       "      <td>739</td>\n",
       "      <td>258</td>\n",
       "      <td>2</td>\n",
       "      <td>debit</td>\n",
       "      <td>2017-03-24 13:48:08</td>\n",
       "    </tr>\n",
       "    <tr>\n",
       "      <th>4994</th>\n",
       "      <td>4</td>\n",
       "      <td>834</td>\n",
       "      <td>384</td>\n",
       "      <td>3</td>\n",
       "      <td>debit</td>\n",
       "      <td>2017-03-18 4:12:20</td>\n",
       "    </tr>\n",
       "    <tr>\n",
       "      <th>4995</th>\n",
       "      <td>12</td>\n",
       "      <td>954</td>\n",
       "      <td>201</td>\n",
       "      <td>1</td>\n",
       "      <td>cash</td>\n",
       "      <td>2017-03-22 0:38:11</td>\n",
       "    </tr>\n",
       "    <tr>\n",
       "      <th>4996</th>\n",
       "      <td>73</td>\n",
       "      <td>993</td>\n",
       "      <td>330</td>\n",
       "      <td>2</td>\n",
       "      <td>debit</td>\n",
       "      <td>2017-03-30 13:47:17</td>\n",
       "    </tr>\n",
       "    <tr>\n",
       "      <th>4997</th>\n",
       "      <td>48</td>\n",
       "      <td>789</td>\n",
       "      <td>234</td>\n",
       "      <td>2</td>\n",
       "      <td>cash</td>\n",
       "      <td>2017-03-16 20:36:16</td>\n",
       "    </tr>\n",
       "    <tr>\n",
       "      <th>4998</th>\n",
       "      <td>56</td>\n",
       "      <td>867</td>\n",
       "      <td>351</td>\n",
       "      <td>3</td>\n",
       "      <td>cash</td>\n",
       "      <td>2017-03-19 5:42:42</td>\n",
       "    </tr>\n",
       "    <tr>\n",
       "      <th>4999</th>\n",
       "      <td>60</td>\n",
       "      <td>825</td>\n",
       "      <td>354</td>\n",
       "      <td>2</td>\n",
       "      <td>credit_card</td>\n",
       "      <td>2017-03-16 14:51:18</td>\n",
       "    </tr>\n",
       "    <tr>\n",
       "      <th>5000</th>\n",
       "      <td>44</td>\n",
       "      <td>734</td>\n",
       "      <td>288</td>\n",
       "      <td>2</td>\n",
       "      <td>debit</td>\n",
       "      <td>2017-03-18 15:48:18</td>\n",
       "    </tr>\n",
       "  </tbody>\n",
       "</table>\n",
       "</div>"
      ],
      "text/plain": [
       "          shop_id  user_id  order_amount  total_items payment_method  \\\n",
       "order_id                                                               \n",
       "4976           76      932           155            1           cash   \n",
       "4977           93      763           114            1    credit_card   \n",
       "4978           69      903           131            1    credit_card   \n",
       "4979            2      841           282            3           cash   \n",
       "4980           75      820           128            1          debit   \n",
       "4981           50      942           772            4    credit_card   \n",
       "4982           86      715           260            2          debit   \n",
       "4983            1      906           316            2    credit_card   \n",
       "4984           46      969           332            2           cash   \n",
       "4985           44      966           432            3    credit_card   \n",
       "4986            8      916           396            3          debit   \n",
       "4987          100      731           111            1           cash   \n",
       "4988           11      826           184            1    credit_card   \n",
       "4989           86      877           260            2           cash   \n",
       "4990           11      843           552            3    credit_card   \n",
       "4991           24      860           140            1           cash   \n",
       "4992           61      707           158            1           cash   \n",
       "4993           49      739           258            2          debit   \n",
       "4994            4      834           384            3          debit   \n",
       "4995           12      954           201            1           cash   \n",
       "4996           73      993           330            2          debit   \n",
       "4997           48      789           234            2           cash   \n",
       "4998           56      867           351            3           cash   \n",
       "4999           60      825           354            2    credit_card   \n",
       "5000           44      734           288            2          debit   \n",
       "\n",
       "                   created_at  \n",
       "order_id                       \n",
       "4976       2017-03-25 1:15:09  \n",
       "4977      2017-03-20 17:14:51  \n",
       "4978      2017-03-13 10:39:49  \n",
       "4979      2017-03-09 19:13:23  \n",
       "4980      2017-03-25 12:28:18  \n",
       "4981       2017-03-23 5:15:19  \n",
       "4982      2017-03-10 18:53:38  \n",
       "4983      2017-03-26 15:57:18  \n",
       "4984      2017-03-23 19:18:15  \n",
       "4985      2017-03-15 20:12:31  \n",
       "4986      2017-03-15 14:22:51  \n",
       "4987       2017-03-30 7:01:59  \n",
       "4988       2017-03-02 9:35:25  \n",
       "4989      2017-03-12 19:55:36  \n",
       "4990      2017-03-02 15:06:29  \n",
       "4991       2017-03-26 0:32:39  \n",
       "4992      2017-03-13 18:56:04  \n",
       "4993      2017-03-24 13:48:08  \n",
       "4994       2017-03-18 4:12:20  \n",
       "4995       2017-03-22 0:38:11  \n",
       "4996      2017-03-30 13:47:17  \n",
       "4997      2017-03-16 20:36:16  \n",
       "4998       2017-03-19 5:42:42  \n",
       "4999      2017-03-16 14:51:18  \n",
       "5000      2017-03-18 15:48:18  "
      ]
     },
     "execution_count": 55,
     "metadata": {},
     "output_type": "execute_result"
    }
   ],
   "source": [
    "data.tail(25)"
   ]
  },
  {
   "cell_type": "code",
   "execution_count": 56,
   "id": "0090dd20",
   "metadata": {},
   "outputs": [
    {
     "data": {
      "text/plain": [
       "shop_id\n",
       "1      44\n",
       "2      55\n",
       "3      48\n",
       "4      51\n",
       "5      45\n",
       "       ..\n",
       "96     51\n",
       "97     48\n",
       "98     58\n",
       "99     54\n",
       "100    40\n",
       "Name: user_id, Length: 100, dtype: int64"
      ]
     },
     "execution_count": 56,
     "metadata": {},
     "output_type": "execute_result"
    }
   ],
   "source": [
    "data.groupby('shop_id')['user_id'].count()"
   ]
  },
  {
   "cell_type": "code",
   "execution_count": 57,
   "id": "c6567be3",
   "metadata": {},
   "outputs": [
    {
     "data": {
      "text/plain": [
       "5000"
      ]
     },
     "execution_count": 57,
     "metadata": {},
     "output_type": "execute_result"
    }
   ],
   "source": [
    "len(data)"
   ]
  },
  {
   "cell_type": "code",
   "execution_count": 58,
   "id": "3290c116",
   "metadata": {},
   "outputs": [
    {
     "data": {
      "text/plain": [
       "3145.128"
      ]
     },
     "execution_count": 58,
     "metadata": {},
     "output_type": "execute_result"
    }
   ],
   "source": [
    "data['order_amount'].sum()/ 5000"
   ]
  },
  {
   "cell_type": "markdown",
   "id": "0edac4f7",
   "metadata": {},
   "source": [
    "The average number of orders in the store is 50\n"
   ]
  },
  {
   "cell_type": "code",
   "execution_count": 59,
   "id": "5e39b8e5",
   "metadata": {},
   "outputs": [
    {
     "data": {
      "text/plain": [
       "shop_id\n",
       "1      13588\n",
       "2       9588\n",
       "3      14652\n",
       "4      13184\n",
       "5      13064\n",
       "       ...  \n",
       "96     16830\n",
       "97     15552\n",
       "98     14231\n",
       "99     18330\n",
       "100     8547\n",
       "Name: order_amount, Length: 100, dtype: int64"
      ]
     },
     "execution_count": 59,
     "metadata": {},
     "output_type": "execute_result"
    }
   ],
   "source": [
    "data.groupby('shop_id')['order_amount'].sum()"
   ]
  },
  {
   "cell_type": "code",
   "execution_count": 60,
   "id": "f93da159",
   "metadata": {},
   "outputs": [
    {
     "data": {
      "text/plain": [
       "created_at  shop_id\n",
       "2017-03-01  1          158\n",
       "            2           94\n",
       "            3          740\n",
       "            5          568\n",
       "            6          748\n",
       "                      ... \n",
       "2017-03-03  31         645\n",
       "            32         606\n",
       "            34         366\n",
       "            35         820\n",
       "            36         910\n",
       "Name: order_amount, Length: 200, dtype: int64"
      ]
     },
     "execution_count": 60,
     "metadata": {},
     "output_type": "execute_result"
    }
   ],
   "source": [
    "#Daily order value per shop over a 30-day window\n",
    "data['created_at'] = pd.to_datetime(data['created_at'])\n",
    "data.groupby([pd.Grouper(key='created_at', freq='D'), 'shop_id']).order_amount.sum().head(200)"
   ]
  },
  {
   "cell_type": "code",
   "execution_count": 61,
   "id": "a04443fc",
   "metadata": {},
   "outputs": [
    {
     "data": {
      "text/plain": [
       "created_at\n",
       "2017-03-01     106154\n",
       "2017-03-02    1588109\n",
       "2017-03-03      48729\n",
       "2017-03-04     855504\n",
       "2017-03-05     126293\n",
       "2017-03-06      42266\n",
       "2017-03-07    1465850\n",
       "2017-03-08      43432\n",
       "2017-03-09     191287\n",
       "2017-03-10      48908\n",
       "2017-03-11     781305\n",
       "2017-03-12     856797\n",
       "2017-03-13      51362\n",
       "2017-03-14     122336\n",
       "2017-03-15     795442\n",
       "2017-03-16     350442\n",
       "2017-03-17     915709\n",
       "2017-03-18     259864\n",
       "2017-03-19     773732\n",
       "2017-03-20      98665\n",
       "2017-03-21     101563\n",
       "2017-03-22     857995\n",
       "2017-03-23      50003\n",
       "2017-03-24    1456430\n",
       "2017-03-25     857247\n",
       "2017-03-26     207534\n",
       "2017-03-27     334819\n",
       "2017-03-28    2165019\n",
       "2017-03-29      98929\n",
       "2017-03-30      73915\n",
       "Freq: D, Name: order_amount, dtype: int64"
      ]
     },
     "execution_count": 61,
     "metadata": {},
     "output_type": "execute_result"
    }
   ],
   "source": [
    "#group by day\n",
    "#check if the data is ordered by a 30 day period\n",
    "data.resample('D', on='created_at').order_amount.sum()\n"
   ]
  },
  {
   "cell_type": "code",
   "execution_count": 62,
   "id": "8f980edf",
   "metadata": {},
   "outputs": [],
   "source": [
    "new_df = data.groupby(\"shop_id\").mean()"
   ]
  },
  {
   "cell_type": "code",
   "execution_count": 63,
   "id": "ee744dd8",
   "metadata": {},
   "outputs": [
    {
     "data": {
      "text/html": [
       "<div>\n",
       "<style scoped>\n",
       "    .dataframe tbody tr th:only-of-type {\n",
       "        vertical-align: middle;\n",
       "    }\n",
       "\n",
       "    .dataframe tbody tr th {\n",
       "        vertical-align: top;\n",
       "    }\n",
       "\n",
       "    .dataframe thead th {\n",
       "        text-align: right;\n",
       "    }\n",
       "</style>\n",
       "<table border=\"1\" class=\"dataframe\">\n",
       "  <thead>\n",
       "    <tr style=\"text-align: right;\">\n",
       "      <th></th>\n",
       "      <th>user_id</th>\n",
       "      <th>order_amount</th>\n",
       "      <th>total_items</th>\n",
       "    </tr>\n",
       "    <tr>\n",
       "      <th>shop_id</th>\n",
       "      <th></th>\n",
       "      <th></th>\n",
       "      <th></th>\n",
       "    </tr>\n",
       "  </thead>\n",
       "  <tbody>\n",
       "    <tr>\n",
       "      <th>1</th>\n",
       "      <td>833.613636</td>\n",
       "      <td>308.818182</td>\n",
       "      <td>1.954545</td>\n",
       "    </tr>\n",
       "    <tr>\n",
       "      <th>2</th>\n",
       "      <td>861.272727</td>\n",
       "      <td>174.327273</td>\n",
       "      <td>1.854545</td>\n",
       "    </tr>\n",
       "    <tr>\n",
       "      <th>3</th>\n",
       "      <td>847.708333</td>\n",
       "      <td>305.250000</td>\n",
       "      <td>2.062500</td>\n",
       "    </tr>\n",
       "    <tr>\n",
       "      <th>4</th>\n",
       "      <td>866.450980</td>\n",
       "      <td>258.509804</td>\n",
       "      <td>2.019608</td>\n",
       "    </tr>\n",
       "    <tr>\n",
       "      <th>5</th>\n",
       "      <td>862.222222</td>\n",
       "      <td>290.311111</td>\n",
       "      <td>2.044444</td>\n",
       "    </tr>\n",
       "  </tbody>\n",
       "</table>\n",
       "</div>"
      ],
      "text/plain": [
       "            user_id  order_amount  total_items\n",
       "shop_id                                       \n",
       "1        833.613636    308.818182     1.954545\n",
       "2        861.272727    174.327273     1.854545\n",
       "3        847.708333    305.250000     2.062500\n",
       "4        866.450980    258.509804     2.019608\n",
       "5        862.222222    290.311111     2.044444"
      ]
     },
     "execution_count": 63,
     "metadata": {},
     "output_type": "execute_result"
    }
   ],
   "source": [
    "new_df.head()"
   ]
  },
  {
   "cell_type": "code",
   "execution_count": 64,
   "id": "4aab1d85",
   "metadata": {},
   "outputs": [
    {
     "data": {
      "text/plain": [
       "user_id          849.271423\n",
       "order_amount    3136.834088\n",
       "total_items        8.652863\n",
       "dtype: float64"
      ]
     },
     "execution_count": 64,
     "metadata": {},
     "output_type": "execute_result"
    }
   ],
   "source": [
    "new_df.mean(axis = 0)"
   ]
  },
  {
   "cell_type": "code",
   "execution_count": 65,
   "id": "482f0da4",
   "metadata": {},
   "outputs": [
    {
     "data": {
      "text/html": [
       "<div>\n",
       "<style scoped>\n",
       "    .dataframe tbody tr th:only-of-type {\n",
       "        vertical-align: middle;\n",
       "    }\n",
       "\n",
       "    .dataframe tbody tr th {\n",
       "        vertical-align: top;\n",
       "    }\n",
       "\n",
       "    .dataframe thead th {\n",
       "        text-align: right;\n",
       "    }\n",
       "</style>\n",
       "<table border=\"1\" class=\"dataframe\">\n",
       "  <thead>\n",
       "    <tr style=\"text-align: right;\">\n",
       "      <th></th>\n",
       "      <th>shop_id</th>\n",
       "      <th>user_id</th>\n",
       "      <th>order_amount</th>\n",
       "      <th>total_items</th>\n",
       "      <th>payment_method</th>\n",
       "      <th>created_at</th>\n",
       "    </tr>\n",
       "    <tr>\n",
       "      <th>order_id</th>\n",
       "      <th></th>\n",
       "      <th></th>\n",
       "      <th></th>\n",
       "      <th></th>\n",
       "      <th></th>\n",
       "      <th></th>\n",
       "    </tr>\n",
       "  </thead>\n",
       "  <tbody>\n",
       "    <tr>\n",
       "      <th>1</th>\n",
       "      <td>53</td>\n",
       "      <td>746</td>\n",
       "      <td>224</td>\n",
       "      <td>2</td>\n",
       "      <td>cash</td>\n",
       "      <td>2017-03-13 12:36:56</td>\n",
       "    </tr>\n",
       "    <tr>\n",
       "      <th>2</th>\n",
       "      <td>92</td>\n",
       "      <td>925</td>\n",
       "      <td>90</td>\n",
       "      <td>1</td>\n",
       "      <td>cash</td>\n",
       "      <td>2017-03-03 17:38:52</td>\n",
       "    </tr>\n",
       "    <tr>\n",
       "      <th>3</th>\n",
       "      <td>44</td>\n",
       "      <td>861</td>\n",
       "      <td>144</td>\n",
       "      <td>1</td>\n",
       "      <td>cash</td>\n",
       "      <td>2017-03-14 04:23:56</td>\n",
       "    </tr>\n",
       "    <tr>\n",
       "      <th>4</th>\n",
       "      <td>18</td>\n",
       "      <td>935</td>\n",
       "      <td>156</td>\n",
       "      <td>1</td>\n",
       "      <td>credit_card</td>\n",
       "      <td>2017-03-26 12:43:37</td>\n",
       "    </tr>\n",
       "    <tr>\n",
       "      <th>5</th>\n",
       "      <td>18</td>\n",
       "      <td>883</td>\n",
       "      <td>156</td>\n",
       "      <td>1</td>\n",
       "      <td>credit_card</td>\n",
       "      <td>2017-03-01 04:35:11</td>\n",
       "    </tr>\n",
       "  </tbody>\n",
       "</table>\n",
       "</div>"
      ],
      "text/plain": [
       "          shop_id  user_id  order_amount  total_items payment_method  \\\n",
       "order_id                                                               \n",
       "1              53      746           224            2           cash   \n",
       "2              92      925            90            1           cash   \n",
       "3              44      861           144            1           cash   \n",
       "4              18      935           156            1    credit_card   \n",
       "5              18      883           156            1    credit_card   \n",
       "\n",
       "                  created_at  \n",
       "order_id                      \n",
       "1        2017-03-13 12:36:56  \n",
       "2        2017-03-03 17:38:52  \n",
       "3        2017-03-14 04:23:56  \n",
       "4        2017-03-26 12:43:37  \n",
       "5        2017-03-01 04:35:11  "
      ]
     },
     "execution_count": 65,
     "metadata": {},
     "output_type": "execute_result"
    }
   ],
   "source": [
    "data.head()"
   ]
  },
  {
   "cell_type": "code",
   "execution_count": 66,
   "id": "4b134b34",
   "metadata": {},
   "outputs": [
    {
     "name": "stderr",
     "output_type": "stream",
     "text": [
      "/var/folders/xg/x9dp1h1x32q36fc2kpxyxd180000gn/T/ipykernel_28750/4034443637.py:1: FutureWarning: DataFrame.mean and DataFrame.median with numeric_only=None will include datetime64 and datetime64tz columns in a future version.\n",
      "  data.mean(axis= 0)\n",
      "/var/folders/xg/x9dp1h1x32q36fc2kpxyxd180000gn/T/ipykernel_28750/4034443637.py:1: FutureWarning: Dropping of nuisance columns in DataFrame reductions (with 'numeric_only=None') is deprecated; in a future version this will raise TypeError.  Select only valid columns before calling the reduction.\n",
      "  data.mean(axis= 0)\n"
     ]
    },
    {
     "data": {
      "text/plain": [
       "shop_id           50.0788\n",
       "user_id          849.0924\n",
       "order_amount    3145.1280\n",
       "total_items        8.7872\n",
       "dtype: float64"
      ]
     },
     "execution_count": 66,
     "metadata": {},
     "output_type": "execute_result"
    }
   ],
   "source": [
    "data.mean(axis= 0)"
   ]
  },
  {
   "cell_type": "markdown",
   "id": "90c04892",
   "metadata": {},
   "source": [
    "### Average per unit order value"
   ]
  },
  {
   "cell_type": "code",
   "execution_count": 67,
   "id": "e1642037",
   "metadata": {},
   "outputs": [],
   "source": [
    "data[\"unit_order_amount\"] = data[\"order_amount\"]/data[\"total_items\"]"
   ]
  },
  {
   "cell_type": "code",
   "execution_count": 68,
   "id": "c5caa1e7",
   "metadata": {},
   "outputs": [
    {
     "data": {
      "text/html": [
       "<div>\n",
       "<style scoped>\n",
       "    .dataframe tbody tr th:only-of-type {\n",
       "        vertical-align: middle;\n",
       "    }\n",
       "\n",
       "    .dataframe tbody tr th {\n",
       "        vertical-align: top;\n",
       "    }\n",
       "\n",
       "    .dataframe thead th {\n",
       "        text-align: right;\n",
       "    }\n",
       "</style>\n",
       "<table border=\"1\" class=\"dataframe\">\n",
       "  <thead>\n",
       "    <tr style=\"text-align: right;\">\n",
       "      <th></th>\n",
       "      <th>shop_id</th>\n",
       "      <th>user_id</th>\n",
       "      <th>order_amount</th>\n",
       "      <th>total_items</th>\n",
       "      <th>payment_method</th>\n",
       "      <th>created_at</th>\n",
       "      <th>unit_order_amount</th>\n",
       "    </tr>\n",
       "    <tr>\n",
       "      <th>order_id</th>\n",
       "      <th></th>\n",
       "      <th></th>\n",
       "      <th></th>\n",
       "      <th></th>\n",
       "      <th></th>\n",
       "      <th></th>\n",
       "      <th></th>\n",
       "    </tr>\n",
       "  </thead>\n",
       "  <tbody>\n",
       "    <tr>\n",
       "      <th>1</th>\n",
       "      <td>53</td>\n",
       "      <td>746</td>\n",
       "      <td>224</td>\n",
       "      <td>2</td>\n",
       "      <td>cash</td>\n",
       "      <td>2017-03-13 12:36:56</td>\n",
       "      <td>112.0</td>\n",
       "    </tr>\n",
       "    <tr>\n",
       "      <th>2</th>\n",
       "      <td>92</td>\n",
       "      <td>925</td>\n",
       "      <td>90</td>\n",
       "      <td>1</td>\n",
       "      <td>cash</td>\n",
       "      <td>2017-03-03 17:38:52</td>\n",
       "      <td>90.0</td>\n",
       "    </tr>\n",
       "    <tr>\n",
       "      <th>3</th>\n",
       "      <td>44</td>\n",
       "      <td>861</td>\n",
       "      <td>144</td>\n",
       "      <td>1</td>\n",
       "      <td>cash</td>\n",
       "      <td>2017-03-14 04:23:56</td>\n",
       "      <td>144.0</td>\n",
       "    </tr>\n",
       "    <tr>\n",
       "      <th>4</th>\n",
       "      <td>18</td>\n",
       "      <td>935</td>\n",
       "      <td>156</td>\n",
       "      <td>1</td>\n",
       "      <td>credit_card</td>\n",
       "      <td>2017-03-26 12:43:37</td>\n",
       "      <td>156.0</td>\n",
       "    </tr>\n",
       "    <tr>\n",
       "      <th>5</th>\n",
       "      <td>18</td>\n",
       "      <td>883</td>\n",
       "      <td>156</td>\n",
       "      <td>1</td>\n",
       "      <td>credit_card</td>\n",
       "      <td>2017-03-01 04:35:11</td>\n",
       "      <td>156.0</td>\n",
       "    </tr>\n",
       "  </tbody>\n",
       "</table>\n",
       "</div>"
      ],
      "text/plain": [
       "          shop_id  user_id  order_amount  total_items payment_method  \\\n",
       "order_id                                                               \n",
       "1              53      746           224            2           cash   \n",
       "2              92      925            90            1           cash   \n",
       "3              44      861           144            1           cash   \n",
       "4              18      935           156            1    credit_card   \n",
       "5              18      883           156            1    credit_card   \n",
       "\n",
       "                  created_at  unit_order_amount  \n",
       "order_id                                         \n",
       "1        2017-03-13 12:36:56              112.0  \n",
       "2        2017-03-03 17:38:52               90.0  \n",
       "3        2017-03-14 04:23:56              144.0  \n",
       "4        2017-03-26 12:43:37              156.0  \n",
       "5        2017-03-01 04:35:11              156.0  "
      ]
     },
     "execution_count": 68,
     "metadata": {},
     "output_type": "execute_result"
    }
   ],
   "source": [
    "data.head()"
   ]
  },
  {
   "cell_type": "code",
   "execution_count": 69,
   "id": "997882a9",
   "metadata": {},
   "outputs": [
    {
     "name": "stderr",
     "output_type": "stream",
     "text": [
      "/var/folders/xg/x9dp1h1x32q36fc2kpxyxd180000gn/T/ipykernel_28750/531903386.py:1: FutureWarning: DataFrame.mean and DataFrame.median with numeric_only=None will include datetime64 and datetime64tz columns in a future version.\n",
      "  data.mean()\n",
      "/var/folders/xg/x9dp1h1x32q36fc2kpxyxd180000gn/T/ipykernel_28750/531903386.py:1: FutureWarning: Dropping of nuisance columns in DataFrame reductions (with 'numeric_only=None') is deprecated; in a future version this will raise TypeError.  Select only valid columns before calling the reduction.\n",
      "  data.mean()\n"
     ]
    },
    {
     "data": {
      "text/plain": [
       "shop_id                50.0788\n",
       "user_id               849.0924\n",
       "order_amount         3145.1280\n",
       "total_items             8.7872\n",
       "unit_order_amount     387.7428\n",
       "dtype: float64"
      ]
     },
     "execution_count": 69,
     "metadata": {},
     "output_type": "execute_result"
    }
   ],
   "source": [
    "data.mean()"
   ]
  },
  {
   "cell_type": "markdown",
   "id": "ee7eace2",
   "metadata": {},
   "source": [
    "### Answers\n",
    "\n",
    "a.\n",
    "\n",
    "b.\n",
    "\n",
    "c. "
   ]
  },
  {
   "cell_type": "code",
   "execution_count": null,
   "id": "3452bd66",
   "metadata": {},
   "outputs": [],
   "source": []
  }
 ],
 "metadata": {
  "kernelspec": {
   "display_name": "Python 3 (ipykernel)",
   "language": "python",
   "name": "python3"
  },
  "language_info": {
   "codemirror_mode": {
    "name": "ipython",
    "version": 3
   },
   "file_extension": ".py",
   "mimetype": "text/x-python",
   "name": "python",
   "nbconvert_exporter": "python",
   "pygments_lexer": "ipython3",
   "version": "3.8.10"
  }
 },
 "nbformat": 4,
 "nbformat_minor": 5
}
